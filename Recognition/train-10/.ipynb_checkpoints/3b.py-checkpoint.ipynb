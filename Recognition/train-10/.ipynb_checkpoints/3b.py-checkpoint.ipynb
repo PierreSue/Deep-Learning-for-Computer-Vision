{
 "cells": [
  {
   "cell_type": "code",
   "execution_count": 2,
   "metadata": {},
   "outputs": [
    {
     "name": "stdout",
     "output_type": "stream",
     "text": [
      "['Coast/image_0006.jpg', 'Coast/image_0010.jpg', 'Coast/image_0015.jpg', 'Coast/image_0022.jpg', 'Coast/image_0028.jpg', 'Coast/image_0032.jpg', 'Coast/image_0034.jpg', 'Coast/image_0038.jpg', 'Coast/image_0043.jpg', 'Coast/image_0048.jpg', 'Forest/image_0003.jpg', 'Forest/image_0004.jpg', 'Forest/image_0006.jpg', 'Forest/image_0015.jpg', 'Forest/image_0016.jpg', 'Forest/image_0020.jpg', 'Forest/image_0028.jpg', 'Forest/image_0031.jpg', 'Forest/image_0034.jpg', 'Forest/image_0039.jpg', 'Highway/image_0009.jpg', 'Highway/image_0010.jpg', 'Highway/image_0012.jpg', 'Highway/image_0016.jpg', 'Highway/image_0018.jpg', 'Highway/image_0019.jpg', 'Highway/image_0021.jpg', 'Highway/image_0023.jpg', 'Highway/image_0028.jpg', 'Highway/image_0033.jpg', 'Mountain/image_0002.jpg', 'Mountain/image_0024.jpg', 'Mountain/image_0026.jpg', 'Mountain/image_0028.jpg', 'Mountain/image_0033.jpg', 'Mountain/image_0035.jpg', 'Mountain/image_0044.jpg', 'Mountain/image_0050.jpg', 'Mountain/image_0054.jpg', 'Mountain/image_0056.jpg', 'Suburb/image_0002.jpg', 'Suburb/image_0006.jpg', 'Suburb/image_0007.jpg', 'Suburb/image_0010.jpg', 'Suburb/image_0016.jpg', 'Suburb/image_0017.jpg', 'Suburb/image_0019.jpg', 'Suburb/image_0027.jpg', 'Suburb/image_0029.jpg', 'Suburb/image_0030.jpg']\n"
     ]
    },
    {
     "name": "stderr",
     "output_type": "stream",
     "text": [
      "C:\\Users\\user\\Anaconda3\\lib\\site-packages\\ipykernel_launcher.py:20: DeprecationWarning: `imread` is deprecated!\n",
      "`imread` is deprecated in SciPy 1.0.0, and will be removed in 1.2.0.\n",
      "Use ``imageio.imread`` instead.\n"
     ]
    },
    {
     "ename": "AttributeError",
     "evalue": "module 'cv2.cv2' has no attribute 'xfeatures2d'",
     "output_type": "error",
     "traceback": [
      "\u001b[1;31m---------------------------------------------------------------------------\u001b[0m",
      "\u001b[1;31mAttributeError\u001b[0m                            Traceback (most recent call last)",
      "\u001b[1;32m<ipython-input-2-1bf4b1861860>\u001b[0m in \u001b[0;36m<module>\u001b[1;34m()\u001b[0m\n\u001b[0;32m     19\u001b[0m \u001b[1;32mfor\u001b[0m \u001b[0mimg_name\u001b[0m \u001b[1;32min\u001b[0m \u001b[0mimg_name_list\u001b[0m\u001b[1;33m:\u001b[0m\u001b[1;33m\u001b[0m\u001b[0m\n\u001b[0;32m     20\u001b[0m     \u001b[0mimg\u001b[0m \u001b[1;33m=\u001b[0m \u001b[0mmisc\u001b[0m\u001b[1;33m.\u001b[0m\u001b[0mimread\u001b[0m\u001b[1;33m(\u001b[0m\u001b[0mimg_name\u001b[0m\u001b[1;33m)\u001b[0m\u001b[1;33m\u001b[0m\u001b[0m\n\u001b[1;32m---> 21\u001b[1;33m     \u001b[0msurf\u001b[0m \u001b[1;33m=\u001b[0m \u001b[0mcv2\u001b[0m\u001b[1;33m.\u001b[0m\u001b[0mxfeatures2d\u001b[0m\u001b[1;33m.\u001b[0m\u001b[0mSURF_create\u001b[0m\u001b[1;33m(\u001b[0m\u001b[1;36m1000\u001b[0m\u001b[1;33m)\u001b[0m\u001b[1;33m\u001b[0m\u001b[0m\n\u001b[0m\u001b[0;32m     22\u001b[0m     \u001b[0mkp\u001b[0m\u001b[1;33m,\u001b[0m \u001b[0mdes\u001b[0m \u001b[1;33m=\u001b[0m \u001b[0msurf\u001b[0m\u001b[1;33m.\u001b[0m\u001b[0mdetectAndCompute\u001b[0m\u001b[1;33m(\u001b[0m\u001b[0mimg\u001b[0m\u001b[1;33m,\u001b[0m \u001b[1;32mNone\u001b[0m\u001b[1;33m)\u001b[0m\u001b[1;33m\u001b[0m\u001b[0m\n\u001b[0;32m     23\u001b[0m     \u001b[0mprint\u001b[0m\u001b[1;33m(\u001b[0m\u001b[0mlen\u001b[0m\u001b[1;33m(\u001b[0m\u001b[0mkp\u001b[0m\u001b[1;33m)\u001b[0m\u001b[1;33m,\u001b[0m \u001b[0mdes\u001b[0m\u001b[1;33m.\u001b[0m\u001b[0mshape\u001b[0m\u001b[1;33m)\u001b[0m\u001b[1;33m\u001b[0m\u001b[0m\n",
      "\u001b[1;31mAttributeError\u001b[0m: module 'cv2.cv2' has no attribute 'xfeatures2d'"
     ]
    }
   ],
   "source": [
    "import cv2\n",
    "import scipy.misc as misc\n",
    "import os\n",
    "import numpy as np\n",
    "from sklearn.cluster import KMeans\n",
    "from mpl_toolkits.mplot3d import Axes3D\n",
    "import matplotlib.pyplot as plt\n",
    "from sklearn.decomposition import PCA\n",
    "\n",
    "\n",
    "category_list = ['Coast', 'Forest', 'Highway', 'Mountain', 'Suburb']\n",
    "img_name_list = []\n",
    "\n",
    "for category in category_list:\n",
    "    img_name_list += [category+'/'+img_name for img_name in os.listdir(category)]\n",
    "print(img_name_list)\n",
    "\n",
    "visual_word_dict = []\n",
    "for img_name in img_name_list:\n",
    "    img = misc.imread(img_name)\n",
    "    surf = cv2.xfeatures2d.SURF_create(1000)\n",
    "    kp, des = surf.detectAndCompute(img, None)\n",
    "    print(len(kp), des.shape)\n",
    "    for des_i in des:\n",
    "        visual_word_dict.append(des_i)\n",
    "visual_word_dict = np.array(visual_word_dict)\n",
    "print(visual_word_dict.shape)\n",
    "\n",
    "### KMeans and PCA\n",
    "\n",
    "kmeans = KMeans(n_clusters=50, max_iter=5000).fit(visual_word_dict)\n",
    "# np.save('centroids.npy', kmeans.cluster_centers_)\n",
    "# exit(-1)\n",
    "# cluster_idx = [47, 7, 27, 30, 31, 35]\n",
    "cluster_idx = range(6)\n",
    "pca_pool = []\n",
    "sub_label_list = []\n",
    "for i, label in enumerate(kmeans.labels_):\n",
    "    if label in cluster_idx:\n",
    "        pca_pool.append(visual_word_dict[i])\n",
    "        sub_label_list.append(label)\n",
    "\n",
    "for i in cluster_idx:\n",
    "    pca_pool.append(kmeans.cluster_centers_[i])\n",
    "sub_label_list += range(10,16)\n",
    "\n",
    "pca = PCA(n_components=3).fit_transform(pca_pool)\n",
    "print(pca.shape)\n",
    "### Plot\n",
    "fignum = 1\n",
    "fig = plt.figure(fignum, figsize=(4, 3))\n",
    "ax = Axes3D(fig, rect=[0, 0, .95, 1], elev=48, azim=134)\n",
    "sub_label_list = np.array(sub_label_list).astype(np.float)\n",
    "# ax.scatter(pca[:-6,0], pca[:-6,1], pca[:-6,2], c=sub_label_list)\n",
    "# ax.scatter(pca[-6:,0], pca[-6:,1], pca[-6:,2], c='r', edgecolor='k', marker='x')\n",
    "ax.scatter(pca[:,0], pca[:,1], pca[:,2], c=sub_label_list)\n",
    "plt.savefig('3b_vv5.jpg')\n",
    "plt.close()"
   ]
  },
  {
   "cell_type": "code",
   "execution_count": null,
   "metadata": {},
   "outputs": [],
   "source": []
  }
 ],
 "metadata": {
  "kernelspec": {
   "display_name": "Python 3",
   "language": "python",
   "name": "python3"
  }
 },
 "nbformat": 4,
 "nbformat_minor": 2
}
